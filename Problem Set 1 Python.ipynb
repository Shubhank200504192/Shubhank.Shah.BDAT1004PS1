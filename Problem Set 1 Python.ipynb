{
 "cells": [
  {
   "cell_type": "markdown",
   "id": "b0dcbca1",
   "metadata": {},
   "source": [
    "# Question 6 Python"
   ]
  },
  {
   "cell_type": "markdown",
   "id": "86cc463f",
   "metadata": {},
   "source": [
    "# Write a function pig() that takes a word (i.e., a string) as input and returns its pigLatin form. Your function should still work if the input word contains upper case characters. Your output should always be lower case however.\n"
   ]
  },
  {
   "cell_type": "code",
   "execution_count": 1,
   "id": "481562b8",
   "metadata": {},
   "outputs": [
    {
     "name": "stdout",
     "output_type": "stream",
     "text": [
      "Enter a String: HAPPY\n",
      "Latin Form: appyhay\n"
     ]
    }
   ],
   "source": [
    "def pig(s):\n",
    "    vowels = \"aeiou\"\n",
    "    s = s.lower()\n",
    "    if s[0] in vowels:\n",
    "        return s + \"way\"\n",
    "    else:\n",
    "        return s[1:] + s[0] + \"ay\"\n",
    "enter_string = input(\"Enter a String: \")\n",
    "latin_word = pig(enter_string)\n",
    "print(\"Latin Form:\", latin_word)"
   ]
  },
  {
   "cell_type": "markdown",
   "id": "6b183897",
   "metadata": {},
   "source": [
    "# Question 7 Python"
   ]
  },
  {
   "cell_type": "markdown",
   "id": "4da4efd0",
   "metadata": {},
   "source": [
    "# File bloodtype1.txt records blood-types of patients (A, B, AB, O or OO) at a clinic. Write a function bldcount() that reads the file with name name and reports (i.e., prints) how many patients there are in each bloodtype.\n"
   ]
  },
  {
   "cell_type": "code",
   "execution_count": 2,
   "id": "4de03d6c",
   "metadata": {},
   "outputs": [
    {
     "name": "stdout",
     "output_type": "stream",
     "text": [
      "There are 15 patients of blood type A.\n",
      "There are 1 patients of blood type B.\n",
      "There are 13 patients of blood type AB.\n",
      "There are 15 patients of blood type O.\n",
      "There are 0 patients of blood type OO.\n"
     ]
    }
   ],
   "source": [
    "def bldcount(filename):\n",
    "    q_7 = open(filename,'r')\n",
    "    c = q_7.readline()\n",
    "    q7_list = []\n",
    "    blood_groups = ['A','B','AB','O','OO']\n",
    "    q7_list.append(c.split(\" \"))\n",
    "    for blood_groups in blood_groups:\n",
    "        print(\"There are {} patients of blood type {}.\".format(q7_list[0].count(blood_groups),blood_groups))\n",
    "bldcount('bloodtype1.txt')"
   ]
  },
  {
   "cell_type": "markdown",
   "id": "dac00f60",
   "metadata": {},
   "source": [
    "# Question 8 Python "
   ]
  },
  {
   "cell_type": "markdown",
   "id": "f84fa9cb",
   "metadata": {},
   "source": [
    "# Write a function curconv() that takes as input: 1. a currency represented using a string (e.g., 'JPY' for the Japanese Yen or 'EUR' for the Euro) 2. an amount and then converts and returns the amount in US dollars.\n"
   ]
  },
  {
   "cell_type": "code",
   "execution_count": 3,
   "id": "57ceb186",
   "metadata": {},
   "outputs": [
    {
     "name": "stdout",
     "output_type": "stream",
     "text": [
      "122.96544\n",
      "1.241401\n"
     ]
    }
   ],
   "source": [
    "def curconv(currency, amount):\n",
    "    currencies = {}\n",
    "    try:\n",
    "        with open('currencies.txt', 'r') as currency_file:\n",
    "            for fetching_line in currency_file:\n",
    "                a = fetching_line.strip().split()\n",
    "                if len(a) >= 2:\n",
    "                    c_code, exchange_amount = a[:2]\n",
    "                    currencies[c_code] = float(exchange_amount)\n",
    "        if currency in currencies:\n",
    "            converted_answer = amount * currencies[currency]\n",
    "            return converted_answer\n",
    "        else:\n",
    "            return \"Currency code not found!!\"\n",
    "    except FileNotFoundError:\n",
    "        return \"File 'currencies.txt' not found!!\"\n",
    "    except (ValueError, KeyError):\n",
    "        return \"Invalid currency code!!\"\n",
    "print(curconv('EUR', 100))\n",
    "print(curconv('JPY', 100))"
   ]
  },
  {
   "cell_type": "markdown",
   "id": "0972f5fa",
   "metadata": {},
   "source": [
    "# Question 9 Python "
   ]
  },
  {
   "cell_type": "markdown",
   "id": "d922ffa2",
   "metadata": {},
   "source": [
    "# Each of the following will cause an exception (an error). Identify what type of exception each will cause."
   ]
  },
  {
   "cell_type": "markdown",
   "id": "fa6e1ecd",
   "metadata": {},
   "source": [
    "1) Trying to add incompatible variables, as in\n",
    "adding 6 + ‘a’ - **TypeError** "
   ]
  },
  {
   "cell_type": "code",
   "execution_count": 4,
   "id": "a0d6cf71",
   "metadata": {},
   "outputs": [
    {
     "name": "stdout",
     "output_type": "stream",
     "text": [
      "Error: unsupported operand type(s) for +: 'int' and 'str'\n"
     ]
    }
   ],
   "source": [
    "#1 Example\n",
    "try:\n",
    "    example_1 = 6 + 'a'\n",
    "except TypeError as e:\n",
    "    print(f\"Error: {e}\")"
   ]
  },
  {
   "cell_type": "markdown",
   "id": "85f66370",
   "metadata": {},
   "source": [
    "2) Referring to the 12th item of a list that has only 10\n",
    "items - **IndexError**"
   ]
  },
  {
   "cell_type": "code",
   "execution_count": 5,
   "id": "846ca786",
   "metadata": {},
   "outputs": [
    {
     "name": "stdout",
     "output_type": "stream",
     "text": [
      "Error: list index out of range\n"
     ]
    }
   ],
   "source": [
    "#2 Example\n",
    "example_2 = [1, 2, 3, 4, 5, 6, 7, 8, 9, 10]\n",
    "\n",
    "try:\n",
    "    a = example_2[11] \n",
    "except IndexError as e:\n",
    "    print(f\"Error: {e}\")"
   ]
  },
  {
   "cell_type": "markdown",
   "id": "092a244a",
   "metadata": {},
   "source": [
    "3) Using a value that is out ofrange for a function’s\n",
    "input, such as calling math.sqrt(-1.0) - **ValueError**"
   ]
  },
  {
   "cell_type": "code",
   "execution_count": 6,
   "id": "9d902e38",
   "metadata": {},
   "outputs": [
    {
     "name": "stdout",
     "output_type": "stream",
     "text": [
      "Error: math domain error\n"
     ]
    }
   ],
   "source": [
    "#3 Example\n",
    "import math\n",
    "try:\n",
    "    example_3 = math.sqrt(-1.0)  \n",
    "except ValueError as e:\n",
    "    print(f\"Error: {e}\")"
   ]
  },
  {
   "cell_type": "markdown",
   "id": "a89b86fd",
   "metadata": {},
   "source": [
    "4) Using an undeclared variable, such as print(x)\n",
    "when x has not been defined - **NameError**"
   ]
  },
  {
   "cell_type": "code",
   "execution_count": 7,
   "id": "525d7560",
   "metadata": {},
   "outputs": [
    {
     "name": "stdout",
     "output_type": "stream",
     "text": [
      "Error: name 'shubhank' is not defined\n"
     ]
    }
   ],
   "source": [
    "#4 Example\n",
    "try:\n",
    "    print(shubhank)  \n",
    "except NameError as e:\n",
    "    print(f\"Error: {e}\")"
   ]
  },
  {
   "cell_type": "markdown",
   "id": "8116f8bd",
   "metadata": {},
   "source": [
    "5) Trying to open a file that does not exist, such as\n",
    "mistyping the file name or looking in the wrong\n",
    "directory. - **FileNotFoundError**"
   ]
  },
  {
   "cell_type": "code",
   "execution_count": 8,
   "id": "02ea27e8",
   "metadata": {},
   "outputs": [
    {
     "name": "stdout",
     "output_type": "stream",
     "text": [
      "Error: [Errno 2] No such file or directory: 'bdat_file.txt'\n"
     ]
    }
   ],
   "source": [
    "#5 Example\n",
    "try:\n",
    "    with open(\"bdat_file.txt\", \"r\") as file:\n",
    "        example_5 = file.read()\n",
    "except FileNotFoundError as e:\n",
    "    print(f\"Error: {e}\")\n"
   ]
  },
  {
   "cell_type": "markdown",
   "id": "50a03f8e",
   "metadata": {},
   "source": [
    "# Question 10 Python"
   ]
  },
  {
   "cell_type": "markdown",
   "id": "e3e19d99",
   "metadata": {},
   "source": [
    "# Write a function called frequencies() that takes a string as its only parameter, and returns a list of integers, showing the number of times each character appears in the text. Your function may ignore any characters that are not in letters.\n"
   ]
  },
  {
   "cell_type": "code",
   "execution_count": 9,
   "id": "862a9fc2",
   "metadata": {},
   "outputs": [
    {
     "name": "stdout",
     "output_type": "stream",
     "text": [
      "Enter a string: My name is Shubhank Shah.\n",
      "[1, 1, 2, 3, 1, 1, 1, 1, 2, 4, 1, 1, 1]\n"
     ]
    }
   ],
   "source": [
    "def frequencies(string):\n",
    "    count = {}\n",
    "    for char in string:\n",
    "        if char.isalpha():\n",
    "            count[char] = count.get(char, 0) + 1\n",
    "    frequency = list(count.values()) \n",
    "    return frequency\n",
    "question_10 = input(\"Enter a string: \")\n",
    "question_10_result = frequencies(question_10)\n",
    "print(question_10_result)"
   ]
  }
 ],
 "metadata": {
  "kernelspec": {
   "display_name": "Python 3 (ipykernel)",
   "language": "python",
   "name": "python3"
  },
  "language_info": {
   "codemirror_mode": {
    "name": "ipython",
    "version": 3
   },
   "file_extension": ".py",
   "mimetype": "text/x-python",
   "name": "python",
   "nbconvert_exporter": "python",
   "pygments_lexer": "ipython3",
   "version": "3.9.12"
  }
 },
 "nbformat": 4,
 "nbformat_minor": 5
}
