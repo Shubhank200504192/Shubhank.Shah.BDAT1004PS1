{
 "cells": [
  {
   "cell_type": "markdown",
   "id": "39d27c2b",
   "metadata": {},
   "source": [
    "# Question 1 C#\n",
    "# What data type is each of the following?"
   ]
  },
  {
   "cell_type": "markdown",
   "id": "de76ef9a",
   "metadata": {},
   "source": [
    "**5** - This data type is an **integer**"
   ]
  },
  {
   "cell_type": "markdown",
   "id": "d184bb55",
   "metadata": {},
   "source": [
    "**5.0** - This data type is a **double** "
   ]
  },
  {
   "cell_type": "markdown",
   "id": "5a69a9c4",
   "metadata": {},
   "source": [
    "**5 > 1** - A **bool (boolean)** data type is used here"
   ]
  },
  {
   "cell_type": "markdown",
   "id": "61528f4d",
   "metadata": {},
   "source": [
    "**'5'** -  This data type is **char (character)**"
   ]
  },
  {
   "cell_type": "markdown",
   "id": "0723e621",
   "metadata": {},
   "source": [
    "**5 * 2** - This is an **int** data type. This expression yields an integer as a result"
   ]
  },
  {
   "cell_type": "markdown",
   "id": "711fa3a0",
   "metadata": {},
   "source": [
    "**'5' * 2** - This data type is an **integer.** Characters can be subjected to arithmetic operations in C#, with the outcome being an integer"
   ]
  },
  {
   "cell_type": "markdown",
   "id": "e0d084f7",
   "metadata": {},
   "source": [
    "**'5' + '2'** - The data type for this is **int.** It applies character arithmetic and generates an integer"
   ]
  },
  {
   "cell_type": "markdown",
   "id": "a6919307",
   "metadata": {},
   "source": [
    "**5 / 2** - The data type for this is **int.** The fractional component is trimmed in C# because two integer divisions yield an integer (integer division)"
   ]
  },
  {
   "cell_type": "markdown",
   "id": "d640e831",
   "metadata": {},
   "source": [
    "**5 % 2** - The data type for this is **int.** When 5 is divided by 2, it is the remainder"
   ]
  },
  {
   "cell_type": "markdown",
   "id": "0db578f0",
   "metadata": {},
   "source": [
    "**{5,2,1}** - This is an **int data type** array. It is an array with three integer components"
   ]
  },
  {
   "cell_type": "markdown",
   "id": "d6d78db4",
   "metadata": {},
   "source": [
    "**5 == 3** - The data type for this is **bool.** The outcome of the equality comparison is what it symbolises, and it can be either true or false"
   ]
  },
  {
   "cell_type": "markdown",
   "id": "2d473074",
   "metadata": {},
   "source": [
    "**Pi (The number)** - It is **bool** data type"
   ]
  },
  {
   "cell_type": "markdown",
   "id": "103a5ebd",
   "metadata": {},
   "source": [
    "# Question 2 C#"
   ]
  },
  {
   "cell_type": "markdown",
   "id": "4c5ca600",
   "metadata": {},
   "source": [
    "# Write (and evaluate) C# expressions that answer these questions:"
   ]
  },
  {
   "cell_type": "markdown",
   "id": "fc05ce4f",
   "metadata": {},
   "source": [
    "## a. How many letters are there in 'Supercalifragilisticexpialidocious'?"
   ]
  },
  {
   "cell_type": "code",
   "execution_count": 13,
   "id": "21467377",
   "metadata": {},
   "outputs": [
    {
     "name": "stdout",
     "output_type": "stream",
     "text": [
      "Total 34 letters in the word(Supercalifragilisticexpialidocious)\r\n"
     ]
    }
   ],
   "source": [
    "string q2_a = \"Supercalifragilisticexpialidocious\";\n",
    "int count = q2_a.Length;\n",
    "Console.WriteLine($\"Total {count} letters in the word(Supercalifragilisticexpialidocious)\");"
   ]
  },
  {
   "cell_type": "markdown",
   "id": "a75abb16",
   "metadata": {},
   "source": [
    "## b. Does 'Supercalifragilisticexpialidocious' contain 'ice' as a substring?"
   ]
  },
  {
   "cell_type": "code",
   "execution_count": 14,
   "id": "bd119f65",
   "metadata": {},
   "outputs": [
    {
     "name": "stdout",
     "output_type": "stream",
     "text": [
      "'Supercalifragilisticexpialidocious' contains 'ice' as a substring\r\n"
     ]
    }
   ],
   "source": [
    "string q2_b = \"Supercalifragilisticexpialidocious\";\n",
    "string substring = \"ice\";\n",
    "if (q2_b.Contains(substring))\n",
    "{\n",
    "    Console.WriteLine(\"'Supercalifragilisticexpialidocious' contains 'ice' as a substring\");\n",
    "}\n",
    "    else\n",
    "{\n",
    "    Console.WriteLine(\"'Supercalifragilisticexpialidocious' does not contain 'ice' as a substring\");\n",
    "}"
   ]
  },
  {
   "cell_type": "markdown",
   "id": "bc2ff05d",
   "metadata": {},
   "source": [
    "## c. Which of the following words is the longest: Supercalifragilisticexpialidocious, Honorificabilitudinitatibus, or Bababadalgharaghtakamminarronnkonn?"
   ]
  },
  {
   "cell_type": "code",
   "execution_count": 15,
   "id": "4e6c9ed3",
   "metadata": {},
   "outputs": [
    {
     "name": "stdout",
     "output_type": "stream",
     "text": [
      "Among all of these 3 words, the longest word is: 'Supercalifragilisticexpialidocious'\r\n"
     ]
    }
   ],
   "source": [
    "string c_1 = \"Supercalifragilisticexpialidocious\";\n",
    "string c_2 = \"Honorificabilitudinitatibus\";\n",
    "string c_3 = \"Bababadalgharaghtakamminarronnkonn\";\n",
    "int l_1 = c_1.Length;\n",
    "int l_2 = c_2.Length;\n",
    "int l_3 = c_3.Length;\n",
    "string longest_word;\n",
    "if (l_1 >= l_2 && l_1 >= l_3)\n",
    "{\n",
    "    longest_word = c_1;\n",
    "}\n",
    "    else if (l_2 >= l_1 && l_2 >= l_3)\n",
    "{\n",
    "    longest_word = c_2;\n",
    "}\n",
    "    else\n",
    "{\n",
    "    longest_word = c_3;\n",
    "}\n",
    "Console.WriteLine($\"Among all of these 3 words, the longest word is: '{longest_word}'\");"
   ]
  },
  {
   "cell_type": "markdown",
   "id": "5b27859a",
   "metadata": {},
   "source": [
    "## d. Which composer comes first in the dictionary: 'Berlioz', 'Borodin', 'Brian', 'Bartok', 'Bellini', 'Buxtehude', 'Bernstein'. Which one comes last?"
   ]
  },
  {
   "cell_type": "code",
   "execution_count": 16,
   "id": "17592ad2",
   "metadata": {},
   "outputs": [
    {
     "name": "stdout",
     "output_type": "stream",
     "text": [
      "The first composer is 'Bartok'\n",
      "The last composer is 'Buxtehude'\n"
     ]
    }
   ],
   "source": [
    "string[] q2_d = { \"Berlioz\", \"Borodin\", \"Brian\", \"Bartok\", \"Bellini\", \"Buxtehude\", \"Bernstein\" };\n",
    "Array.Sort(q2_d);\n",
    "string first = q2_d[0];\n",
    "string last = q2_d[q2_d.Length - 1];\n",
    "Console.WriteLine($\"The first composer is '{first}'\");\n",
    "Console.WriteLine($\"The last composer is '{last}'\");"
   ]
  },
  {
   "cell_type": "markdown",
   "id": "b97a9408",
   "metadata": {},
   "source": [
    "# Question 3 C#"
   ]
  },
  {
   "cell_type": "markdown",
   "id": "0e8b9811",
   "metadata": {},
   "source": [
    "# Implement function triangleArea(a,b,c) that takes as input the lengths of the 3 sides of a triangle and returns the area of the triangle. By Heron's formula, the area of a triangle with side lengths a, b, and c is s(s − a)(s −b)(s −c), where s = (a + b + c)/2."
   ]
  },
  {
   "cell_type": "code",
   "execution_count": 17,
   "id": "23458bcc",
   "metadata": {},
   "outputs": [
    {
     "name": "stdout",
     "output_type": "stream",
     "text": [
      "The area of the triangle is: 1.7320508075688772\r\n"
     ]
    }
   ],
   "source": [
    "public class FindTriangleArea\n",
    "{\n",
    "    public static double TriangleArea(double a, double b, double c)\n",
    "    {\n",
    "        double find = (a + b + c) / 2.0;\n",
    "        double find_area = Math.Sqrt(find * (find - a) * (find - b) * (find - c));\n",
    "        return find_area;\n",
    "    }\n",
    "}\n",
    "double A = 2.0;\n",
    "double B = 2.0;\n",
    "double C = 2.0;\n",
    "\n",
    "double find_area = FindTriangleArea.TriangleArea(A, B, C);\n",
    "Console.WriteLine(\"The area of the triangle is: \" + find_area);\n"
   ]
  },
  {
   "cell_type": "markdown",
   "id": "76ecc769",
   "metadata": {},
   "source": [
    "# Question 4 C#"
   ]
  },
  {
   "cell_type": "markdown",
   "id": "2cd54732",
   "metadata": {},
   "source": [
    "# Write a program in C# Sharp to separate odd and even integers in separate arrays. Go to the editor Test Data : Input the number of elements to be stored in the array :5 Input 5 elements in the array : element - 0 : 25 element - 1 : 47 element - 2 : 42 element - 3 : 56 element - 4 : 32 Expected Output: The Even elements are: 42 56 32 The Odd elements are : B 25 47"
   ]
  },
  {
   "cell_type": "code",
   "execution_count": 18,
   "id": "bc9d962a",
   "metadata": {},
   "outputs": [
    {
     "name": "stdout",
     "output_type": "stream",
     "text": [
      "Even numbers: 20 18 16\n",
      "Odd numbers: 13 19\n"
     ]
    }
   ],
   "source": [
    "int[] input = { 20,13,19,18,16 };\n",
    "int[] even = Array.FindAll(input, num => num % 2 == 0);\n",
    "int[] odd = Array.FindAll(input, num => num % 2 != 0);\n",
    "\n",
    "Console.WriteLine(\"Even numbers: \" + string.Join(\" \", even));\n",
    "Console.WriteLine(\"Odd numbers: \" + string.Join(\" \", odd));"
   ]
  },
  {
   "cell_type": "markdown",
   "id": "8ca1042c",
   "metadata": {},
   "source": [
    "# Question 5 C#"
   ]
  },
  {
   "cell_type": "markdown",
   "id": "42deb39d",
   "metadata": {},
   "source": [
    "# a. Write a function inside(x,y,x1,y1,x2,y2) that returns True or False dependingonwhetherthepoint(x,y)liesintherectanglewithlowerleft corner (x1,y1) and upper right corner (x2,y2)."
   ]
  },
  {
   "cell_type": "code",
   "execution_count": 19,
   "id": "679ba7cd",
   "metadata": {},
   "outputs": [
    {
     "name": "stdout",
     "output_type": "stream",
     "text": [
      "True\n",
      "False\n"
     ]
    }
   ],
   "source": [
    "public static bool Inside(double x, double y, double x1, double y1, double x2, double y2)\n",
    "{\n",
    "    return x >= x1 && x <= x2 && y >= y1 && y <= y2;\n",
    "}\n",
    "bool scenario_1 = Inside(1, 1, 0, 0, 2, 3); \n",
    "bool scenario_2 = Inside(-1, -1, 0, 0, 2, 3); \n",
    "Console.WriteLine(scenario_1);\n",
    "Console.WriteLine(scenario_2);"
   ]
  },
  {
   "cell_type": "markdown",
   "id": "b838f53e",
   "metadata": {},
   "source": [
    "# b. Use function inside()from part a. to write an expression that tests whether the point (1,1) lies in both of the following rectangles: one with lower left corner (0.3, 0.5) and upper right corner (1.1, 0.7) and the other with lower left corner (0.5, 0.2) and upper right corner (1.1, 2)."
   ]
  },
  {
   "cell_type": "code",
   "execution_count": 20,
   "id": "4acfcc56",
   "metadata": {},
   "outputs": [
    {
     "name": "stdout",
     "output_type": "stream",
     "text": [
      "Is the point (1,1) lies in both rectangles? False\r\n"
     ]
    }
   ],
   "source": [
    "double x = 1;\n",
    "double y = 1;\n",
    "\n",
    "bool Rec_1 = Inside(x, y, 0.3, 0.5, 1.1, 0.7);\n",
    "\n",
    "bool Rec_2 = Inside(x, y, 0.5, 0.2, 1.1, 2);\n",
    "\n",
    "bool final_ans = Rec_1 && Rec_2;\n",
    "\n",
    "Console.WriteLine(\"Is the point (1,1) lies in both rectangles? \" + final_ans);"
   ]
  }
 ],
 "metadata": {
  "kernelspec": {
   "display_name": ".NET (C#)",
   "language": "C#",
   "name": ".net-csharp"
  },
  "language_info": {
   "file_extension": ".cs",
   "mimetype": "text/x-csharp",
   "name": "C#",
   "pygments_lexer": "csharp",
   "version": "8.0"
  }
 },
 "nbformat": 4,
 "nbformat_minor": 5
}
