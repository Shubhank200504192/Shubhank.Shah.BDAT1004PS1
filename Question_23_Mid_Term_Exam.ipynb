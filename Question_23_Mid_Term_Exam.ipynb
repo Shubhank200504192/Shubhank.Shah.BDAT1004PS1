{
 "cells": [
  {
   "cell_type": "code",
   "execution_count": 14,
   "id": "029a7a61",
   "metadata": {},
   "outputs": [
    {
     "name": "stdout",
     "output_type": "stream",
     "text": [
      "('Afghanistan', 25500100, 652230)\n",
      "('Algeria', 37100000, 2381741)\n"
     ]
    }
   ],
   "source": [
    "import sqlite3\n",
    "conn = sqlite3.connect('countries_database.db')\n",
    "cur = conn.cursor()\n",
    "\n",
    "cur.execute('''CREATE TABLE CountryData (\n",
    "    name TEXT,\n",
    "    continent TEXT,\n",
    "    area INTEGER,\n",
    "    population INTEGER,\n",
    "    gdp INTEGER\n",
    ")''')\n",
    "\n",
    "data = [('Afghanistan', 'Asia', 652230, 25500100, 20343000),\n",
    "        ('Albania', 'Europe', 28748, 2831741, 12960000),\n",
    "        ('Algeria', 'Africa', 2381741, 37100000, 188681000),\n",
    "        ('Andorra', 'Europe', 468, 78115, 3712000),\n",
    "        ('Angola', 'Africa', 1246700, 20609294, 100990000)]\n",
    "\n",
    "cur.executemany(\"INSERT INTO CountryData VALUES (?, ?, ?, ?, ?)\", data)\n",
    "\n",
    "cur.execute('''SELECT name, population, area FROM CountryData\n",
    "            WHERE area > 3000000 OR population > 25000000''')\n",
    "\n",
    "results = cur.fetchall()\n",
    "for result in results:\n",
    "    print(result)\n",
    "\n",
    "conn.commit()\n",
    "conn.close()\n"
   ]
  }
 ],
 "metadata": {
  "kernelspec": {
   "display_name": "Python 3 (ipykernel)",
   "language": "python",
   "name": "python3"
  },
  "language_info": {
   "codemirror_mode": {
    "name": "ipython",
    "version": 3
   },
   "file_extension": ".py",
   "mimetype": "text/x-python",
   "name": "python",
   "nbconvert_exporter": "python",
   "pygments_lexer": "ipython3",
   "version": "3.9.12"
  }
 },
 "nbformat": 4,
 "nbformat_minor": 5
}
