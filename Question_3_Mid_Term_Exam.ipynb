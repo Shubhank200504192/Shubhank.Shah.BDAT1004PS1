{
 "cells": [
  {
   "cell_type": "code",
   "execution_count": 13,
   "id": "dcde890b",
   "metadata": {},
   "outputs": [
    {
     "name": "stdout",
     "output_type": "stream",
     "text": [
      "Enter a word: pot\n",
      "Anagrams of pot:\n",
      "pot\n",
      "top\n"
     ]
    }
   ],
   "source": [
    "def anagrams(word, file_path):\n",
    "    with open(file_path, 'r') as f:\n",
    "        q3 = f.read().splitlines()\n",
    "\n",
    "    def is_anagram(w):\n",
    "        return sorted(w) == sorted(word)\n",
    "\n",
    "    anagram_words_q3 = filter(is_anagram, q3)\n",
    "\n",
    "    print(f\"Anagrams of {word}:\")\n",
    "    for anagram in anagram_words_q3:\n",
    "        print(anagram)\n",
    "\n",
    "file_path_q3 = 'words.txt'\n",
    "\n",
    "user_input = input(\"Enter a word: \")\n",
    "\n",
    "anagrams(user_input, file_path_q3)"
   ]
  }
 ],
 "metadata": {
  "kernelspec": {
   "display_name": "Python 3 (ipykernel)",
   "language": "python",
   "name": "python3"
  },
  "language_info": {
   "codemirror_mode": {
    "name": "ipython",
    "version": 3
   },
   "file_extension": ".py",
   "mimetype": "text/x-python",
   "name": "python",
   "nbconvert_exporter": "python",
   "pygments_lexer": "ipython3",
   "version": "3.9.12"
  }
 },
 "nbformat": 4,
 "nbformat_minor": 5
}
